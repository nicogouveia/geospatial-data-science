{
 "cells": [
  {
   "cell_type": "code",
   "execution_count": null,
   "id": "8af0b279",
   "metadata": {},
   "outputs": [],
   "source": [
    "\"\"\"\n",
    "lab1 debugging - copied from main directory and changed image path\n",
    "\"\"\"\n",
    "\n",
    "import numpy as np\n",
    "a = 2022\n",
    "b = 2\n",
    "c = np.multiply(a, b)\n",
    "print(c)"
   ]
  },
  {
   "cell_type": "markdown",
   "id": "1ecd933e",
   "metadata": {},
   "source": [
    "Are the northern cascades *inspiring*? I wanted to think of something clever (**the matrix? hall of justice? birthplace of the black panther party?**) but I'm too lazy and tired.\n",
    "\n",
    "![WOW! mystical mountains; probably in northern WA](northerncascades.jpg)\n",
    "\n",
    "https://www.tripsavvy.com/thmb/hpWcddqFN6BtH78uicKNisGa-wQ=/3690x2697/filters:no_upscale():max_bytes(150000):strip_icc()/an-amazing-view-across-lush-alpine-meadows--lakes--streams-and-the-glaciated-high-peaks-of-the-north-cascades-wilderness--107216089-5c2e5fb746e0fb000130f4fa.jpg"
   ]
  },
  {
   "cell_type": "code",
   "execution_count": null,
   "id": "122addfb",
   "metadata": {},
   "outputs": [],
   "source": []
  }
 ],
 "metadata": {
  "kernelspec": {
   "display_name": "Python 3 (ipykernel)",
   "language": "python",
   "name": "python3"
  },
  "language_info": {
   "codemirror_mode": {
    "name": "ipython",
    "version": 3
   },
   "file_extension": ".py",
   "mimetype": "text/x-python",
   "name": "python",
   "nbconvert_exporter": "python",
   "pygments_lexer": "ipython3",
   "version": "3.9.7"
  }
 },
 "nbformat": 4,
 "nbformat_minor": 5
}
